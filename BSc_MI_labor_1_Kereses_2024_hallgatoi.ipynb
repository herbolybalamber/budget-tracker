{
  "nbformat": 4,
  "nbformat_minor": 0,
  "metadata": {
    "colab": {
      "provenance": [],
      "include_colab_link": true
    },
    "kernelspec": {
      "name": "python3",
      "display_name": "Python 3"
    }
  },
  "cells": [
    {
      "cell_type": "markdown",
      "metadata": {
        "id": "view-in-github",
        "colab_type": "text"
      },
      "source": [
        "<a href=\"https://colab.research.google.com/github/herbolybalamber/budget-tracker/blob/main/BSc_MI_labor_1_Kereses_2024_hallgatoi.ipynb\" target=\"_parent\"><img src=\"https://colab.research.google.com/assets/colab-badge.svg\" alt=\"Open In Colab\"/></a>"
      ]
    },
    {
      "cell_type": "markdown",
      "metadata": {
        "id": "0ksdrbUPoEwB"
      },
      "source": [
        "# Bevezetés és otthoni felkészülési anyag\n",
        "## Célkitűzések\n",
        "\n",
        "Jelen labor célja, hogy az MI területén széleskörűen alkalmazott problémamegoldó módszer, a keresés algoritmusait gyakorlatias megközelítésben saját implementáción keresztül bemutassa.\n",
        "\n",
        "Keresést számos területen alkalmazunk: a legkézenfekvőbb és leginkább szemléletes így megoldható probléma az útvonalkeresés térképen, ezért a labor során is egy térképen fogunk utat keresni. Azonban sokkal komplexebb és általánosabb problémák is visszavezethetők keresésre: a tervkészítés során a tervek terében van lehetőség keresni, a logikai bizonyítások területén az ismert tényekből kiindulva kereshetünk új ismeretet vagy kereshetjük egy állítás bizonyítását a logika alapvető szabályait követve, és a sor még hosszan folytatható lenne.\n",
        "\n",
        "## A keresési algoritmusok általános működése\n",
        "\n",
        "## A problématér\n",
        "\n",
        "Problématérnek nevezzük azt a teret, ahol magát a megoldandó problémát megfogalmazzuk. Egy térképen keresés során ez maga a térkép, míg például egy logikai levezetés keresése során ez az állítások halmaza és a felhasználható műveletek készlete alkotja a problémateret.\n",
        "\n",
        "A problématér lehet véges nagyásgú, mint a térkép esetében, vagy lehet végtelen nagy, mint a logikai levezetések során (hiszen ha a logikai invertálás egy használható művelet, akkor tetszőleges logikai állítást végtelen sokszor invertálhatunk anélkül, hogy a problématér határait feszegetnénk).\n",
        "\n",
        "Fontos látni, hogy annak ellenére, hogy esetleg a problématér maga véges, rajta futtatott keresések ettől még futhatnak végtelen sokáig: ha egy keresés hajlamos visszalépni egy korábban már felkeresett állapotba anélkül, hogy ezt észlelné, akkor minden adott ahhoz, hogy a célt sose érje el!\n",
        "\n",
        "\n",
        "## A keresési tér\n",
        "\n",
        "A keresési algoritmusok működéséhez önmagában nem elég a problématér, ugyanis a keresés futása során további adatokat is tárolnunk kell, amik nem a problémához, hanem a keresés aktuális futásához tartoznak: ilyen például, hogy a problématér bizonyos állapotba milyen korábbi állapotok láncolatán keresztül jutottunk el, hiszen ebből áll majd elő a problématérben megfogalmazott megoldás!\n",
        "\n",
        "Az algoritmusok minden esetben egy keresési térben futnak. Fontos észrevenni, hogy még abban az esetben is, amikor egy térképen történő keresési problémával foglalkozunk, a térkép által reprezentált valóság tere, és a keresési tér eltérnek egymástól! Előbbi térbeli koordinátákkal leírható objektumokat tartalmaz, míg utóbbi egy absztrakt gráf formájú reprezentációja a valóságnak.\n",
        "\n",
        "A keresés során mindig a keresési térben dolgoznak az algoritmusok, noha a keresési tér egyes pontjai általában megfeleltethetők a valóságos tér bizonyos pontjainak, a megfeleltetés sokszor nem egy az egyhez arányú: például ha egy valóságos térbeli ponthoz több út is létezik, akkor a problématér ugyanazon pontja a keresési tér több különböző pontjában is megjelenhet, és a keresési algoritmus feladata, hogy ezek azonosságát felismerje!\n",
        "\n",
        "## A célteszt\n",
        "\n",
        "A keresési algoritmus futása során a célteszt feladata eldönteni, hogy egy éppen bejárt csomópont célnak számít-e. Amennyiben igen, akkor a keresés visszaköveti az adott állapotba vezető utat, majd leáll.\n",
        "\n",
        "A legegyszerűbb kereséseknél explicite megfogalmazható a célállapot, például a térképen keresve egy pontra rábökve mondhatjuk azt, hogy ez a pont a cél. Ebben az esetben egy egyszerű összehasonlítás a célteszt, ami jelez, ha a keresés során a célállapotba léptünk.\n",
        "\n",
        "Bonyolultabb keresések esetén, lehet több vagy akár végtelen sok célállapot is. Ilyenkor a célteszt egy jóval bonyolultabb függvény, mely azonban továbbra is akkor ad vissza igaz értéket, amikor egy állapotra teljesülnek a céllal szembeni előírások.\n",
        "\n",
        "## A keresések általános lefutása\n",
        "\n",
        "A keresési algoritmusok első lépése mindig a kezdőállapot beállítása. Ezt követően a keresés iteratívan mindig újabb állapotokat dolgoz fel a keresési térben mindaddig, amíg a célteszt az éppen kiválasztott állapotra igaz értéket nem ad vissza, vagy a feldolgozható csomópontok el nem fogytak. Előbbi esetben az algoritmus utat talált egy célállapotba, míg utóbbi esetben a keresés sikertelenül ér véget.\n",
        "\n",
        "A keresési algoritmusok alapvetően abban különböznek egymástól, hogy a potenciálisan kiválasztható csomópontok közül milyen elvek alapján jelölik ki a következőnek kibontandó csomópontot. A labor a keresések általános kerete adott lesz, mindössze ezt a csomópont kiválasztó logikát kell implemenálni különböző megfontolások alapján, ezzel lesz lehetőség gyorsan és könnyen különböző keresési algoritmusokat implementálni.\n",
        "\n",
        "## A labor során használt problématér\n",
        "\n",
        "Jelen labor során egy egyszerű térképpel dolgozunk majd, mely a BME I épületének környékét és a 11. kerületet ábrázolja. A térkép az [OpenStreetMap](https://www.openstreetmap.org) adatbázisából került leszűrésre 11ker.osm néven. A különböző keresési algoritmusokkal az I épületből a Schönherz kollégiumhoz keresünk majd utat, de a labor végén az önálló kísérletező részben tetszőleges más pontba is kereshető út.\n",
        "\n",
        "## A Google Cloab környezet\n",
        "\n",
        "Jelen labor jegyzőkönyve a Google Colab környezetben készült. E környezetben olyan dokumentumok szerkeszthetők, melyek egyszerre tartalmaznak statikus információkat (szöveg és kép formájában), illetve Python nyelven írt kódrészleteket. A kódrészletek a dokumentumon belül szerkeszthetők és tetszőlegesen sokszor újrafuttathatók. A lefutó program kimenete a kódblokk alatt látható.\n",
        "\n",
        "A térkép kezelésével kapcsolatos kódrészleteket egy Map.py néven elérhető forráskód fájlban implementáltuk annak érdekében, hogy a jegyzőkönyv keretein belül már csak a lényegi feladatokra kelljen koncentrálni.\n",
        "\n",
        "# Laborfeladatok\n",
        "\n",
        "## A szükséges fájlok letöltése\n",
        "\n",
        "Első lépésként futtassa le az alábbi kódblokkot az egerét a bal felső sarokban látható \"\\[ \\]\" rész fölé mozgatva, majd a megjelenő futtatás gombra kattintva."
      ]
    },
    {
      "cell_type": "code",
      "metadata": {
        "id": "4WSK7nA_zO95"
      },
      "source": [
        "!wget -O Map.py https://share.mit.bme.hu/index.php/s/r82NPxrbgbP69cX/download/Map.py\n",
        "!wget -O 11ker.osm https://share.mit.bme.hu/index.php/s/kbr8QNqy3SRXHGn/download/11ker.osm"
      ],
      "execution_count": null,
      "outputs": []
    },
    {
      "cell_type": "markdown",
      "metadata": {
        "id": "TI8htTYV5CXl"
      },
      "source": [
        "A fenti blokk hatására elindult egy Pyhton session, melynek memória és tárhely felhasználása az ablak bal felső sarkában látható \"RAM\" és \"Disk\" című grafikonokon. A hivatkozott két térképfájl és a Map.py forráskód letöltésre került, így az alábbi immáron Python nyelven írt blokkban lehetőségünk van a térképet betölteni és megjeleníteni.\n",
        "\n",
        "## A térkép megjelenítése\n",
        "\n",
        "Futtassa le az alábbi kódrészletet, hogy láthatóvá váljanak a térkép pontjai (kék pöttyök) és a köztük vezető utak (fekete vonalak)!"
      ]
    },
    {
      "cell_type": "code",
      "metadata": {
        "id": "ZJdiZzT05FEE"
      },
      "source": [
        "from Map import Map\n",
        "import math\n",
        "import random\n",
        "\n",
        "map = Map('11ker.osm')\n",
        "map.show()"
      ],
      "execution_count": null,
      "outputs": []
    },
    {
      "cell_type": "markdown",
      "metadata": {
        "id": "8aYl1CA3sSXH"
      },
      "source": [
        "A fenti kódrészlet az 11ker.osm fájlt tölti be és jeleníti meg. Azonosítsa a feliratok nélküli a térképeken a BME I épület helyét illetve a Schönherz Kollégiumot! Amennyiben segítségre van szüksége ehhez, használja a [Google Maps](https://www.google.com/maps/@47.4721234,19.0510429,16z) felületét!\n",
        "\n",
        "A következő lépésben a keresési térhez kapcsolódó néhány kódrészlettel kell megismerkednie.\n",
        "\n",
        "# Keresési algoritmusok impelentációja\n",
        "\n",
        "\n",
        "## A keresési tér implementálása\n",
        "\n",
        "A problématér reprezentációját megoldják a Map.py fájlban letöltött Map és Location osztályok, így azokkal itt nem foglalkozunk. A keresési térben történő gráf építéshez szükségünk lesz egy SearchNode osztályra, mely a keresési tér csomópontjait tartja majd nyilván. Minden csomópont az alábbi attribútumokkal rendelkezik majd:\n",
        "\n",
        "*   location: Egy, a problématérben definiált pont, melyet a keresési térben ez a csomópont reprezentál\n",
        "*   parent: A keresési térben az a SearchNode, melynek kifejtésével a jelenlegi SearchNode-hoz elértünk\n",
        "*   cost: A kiindulási ponttól eddig a pontig tartó teljes út költség (jelen esetben az út hossza idáig)\n",
        "\n",
        "Értelmezze, majd futtassa le az alábbi kódrészletet, ezzel definálva a SearchNode osztályt:"
      ]
    },
    {
      "cell_type": "code",
      "metadata": {
        "id": "dN7CSArw4yLn"
      },
      "source": [
        "# SearchNode represents a node in the search tree\n",
        "class SearchNode:\n",
        "    # Set location, parent node and summed cost to this node\n",
        "    def __init__(self, location, parent, cost):\n",
        "        self.location = location\n",
        "        self.parent = parent\n",
        "        self.cost = cost\n",
        "\n",
        "    # Convert the node to string (the parent id is also displayed when present)\n",
        "    def __str__(self):\n",
        "        if self.parent != None:\n",
        "            return '<location={}, parent={} >'.format(self.location.id,self.parent.location.id)\n",
        "        return '<location={}>'.format(self.location.id)\n",
        "\n",
        "    # Node equality is defined by the location on the map represented by the node\n",
        "    def __eq__(self, other):\n",
        "        if (other == None):\n",
        "            return False\n",
        "        return self.location == other.location"
      ],
      "execution_count": null,
      "outputs": []
    },
    {
      "cell_type": "markdown",
      "metadata": {
        "id": "9ZKrezJI437G"
      },
      "source": [
        "A bevezetőben vázlatosan leírt általános keresési algoritmus működést fogjuk az alábbiakban jóval formálisabban impelementáció formájában rögzíteni. Az itt implementált SearchFrame működése teljesen általános, az minden, a labor során megvalósított algoritmusra megegyezik. Magukat az algoritmus implementációkat a későbbiekben feladatként megvalósított NodeSelector osztályokban helyezzük majd el.\n",
        "\n",
        "A működés során a keretrendszer két listát tart nyilván:\n",
        "* openList: Ezen a listán vannak a keresési térnek azon pontjai, melyek kifejtésre várnak.\n",
        "* closedList: Ezen a listán vannak a keresési térnek azon pontjai, amelyeket már felkerestünk egyszer.\n",
        "\n",
        "A keresés alaphelyzetbe állítását a resetSearch függvény végzi:\n",
        "* törli az openList és a closedList tartamát és minden egyéb kapcsolódó adatszerkezetet\n",
        "* ezt követően felveszi a kezdő csomóponthoz tartozó pontot a keresési térben az openList-re\n",
        "\n",
        "A keresést a step függvény futtatja a paraméterként kapott számú lépés megtételével. A step működése a következő:\n",
        "* ha nincs több csomópont az openList-en, akkor a keresés kudarccal ér véget\n",
        "* ha van legalább egy csomópont az openList-en, akkor meghívjuk az aktív nextNodeSelector.nextNode függvényét, ami az éppen implementált keresési módszernek megfelelően választ egy csomópontot az openList-ről kifejtésre\n",
        "* ha a kiválasztott csomópont egy célcsomópont, akkor készen vagyunk, visszaadjuk az odáig vezető útvonalat és kilépünk\n",
        "* ha a kiválasztott csomópont nem cél, akkor minden szomszédját felvesszük az openList-re, amely még nem szerepel az openList-en vagy a closedList-en\n",
        "* végül az éppen feldolgozott csomópontot töröljük az openList-ről és felvesszük az closedList-re\n",
        "\n",
        "Fussa át az alábbi, alaposan kommentezett kódrészletet, és értelmezze a működését! Ha kérdése van, forduljon a laborvezetőhöz! Ha minden világos, akkor futtassa a blokkot, hogy létrejöjjön a SearchFrame osztály!"
      ]
    },
    {
      "cell_type": "code",
      "metadata": {
        "id": "6S6xOv1a48XA"
      },
      "source": [
        "# The framework running the algorithms\n",
        "class SearchFrame:\n",
        "    map = None                  # The map the search is running on\n",
        "    start = None                # A single node representing the start to search from\n",
        "    targets = []                # Multiple target nodes all equally accepted as a valid target\n",
        "\n",
        "    openList = []               # Search nodes waiting for being selected are on the open list\n",
        "    closedList = []             # Search nodes already explored are on the closed list\n",
        "    pathFound = []              # The path the search finds from the start node to one of the target nodes\n",
        "\n",
        "    nextNodeSelector = None     # The next node selection logic, this class determines the type of search we are running\n",
        "    verbose = False             # By default do not print to console every node selected\n",
        "    heurErrorRatio = 0          # Amount of error of heuristics calculations\n",
        "\n",
        "\n",
        "    # Set the map to work on\n",
        "    def __init__(self, map):\n",
        "        self.map = map\n",
        "\n",
        "    # Set start node, add to the open list and set color to red\n",
        "    def setStart(self, start):\n",
        "        self.start = self.map.locations.get(start)\n",
        "        self.openList.clear()\n",
        "        self.openList.append(SearchNode(self.start,None,0))\n",
        "        self.map.setLocationAnnotation(self.start,1)\n",
        "        self.stepCount = 0\n",
        "\n",
        "    # Add new location to the target list and set display color to green\n",
        "    def addTarget(self, target):\n",
        "        newTarget = self.map.locations.get(target)\n",
        "        self.targets.append(newTarget)\n",
        "        self.map.setLocationAnnotation(newTarget,2)\n",
        "\n",
        "\n",
        "    # Reset the search framework before restarting the search\n",
        "    def resetSearch(self):\n",
        "        # Reset internal lists\n",
        "        self.openList.clear()\n",
        "        self.closedList.clear()\n",
        "        self.pathFound.clear()\n",
        "\n",
        "        # Reset annotations displayed on the map\n",
        "        self.map.clearAnnotations()\n",
        "\n",
        "        # Add start node to openList\n",
        "        self.openList.append(SearchNode(self.start,None,0))\n",
        "        self.map.setLocationAnnotation(self.start,1)\n",
        "\n",
        "    # Clear all prevously set target\n",
        "    def clearTargets(self):\n",
        "      self.targets.clear()\n",
        "\n",
        "    # Calculate heuristic value for the given location\n",
        "    def heur(self, location):\n",
        "        # Calculate the heuristic value against all targets and return the smallest value\n",
        "        minValue = -1\n",
        "        for target in self.targets:\n",
        "            # Euclidean distance is used as an acceptable heuristic in this flat world problem\n",
        "            currentValue = math.sqrt(math.pow(location.lat-target.lat,2)+math.pow(location.lon-target.lon,2))\n",
        "            if minValue == -1 or minValue>currentValue:\n",
        "                minValue = currentValue\n",
        "        # Convert the results into meters (road length in the OSM map are in meters)\n",
        "        meterValue = minValue*100000\n",
        "\n",
        "        # Add white noise to the heuristic value if set so\n",
        "        if self.heurErrorRatio > 0:\n",
        "          errorValue = meterValue*self.heurErrorRatio*(random.random()*2-1)\n",
        "          meterValue = meterValue + errorValue\n",
        "        return meterValue\n",
        "\n",
        "    # Run the given number of steps of the present search algorithm\n",
        "    def step(self, stepNumber = 1):\n",
        "        for i in range(0,stepNumber):\n",
        "            self.stepCount = self.stepCount + 1\n",
        "            if len(self.openList) == 0:\n",
        "                # No more candidates, no path found from start to target.\n",
        "                print('Openlist is empty. Giving up.')\n",
        "                return\n",
        "\n",
        "            # Select the next node to explore\n",
        "            selectedNode = self.nextNodeSelector.nextNode(self, self.openList, self.closedList)\n",
        "\n",
        "            # In verbose mode print selected node to console\n",
        "            if self.verbose:\n",
        "                print('Next node: {}'.format(selectedNode))\n",
        "\n",
        "            # If something goes wrong in the nextNodeSelector, let's interrupt\n",
        "            if selectedNode == None or selectedNode not in self.openList:\n",
        "                print('The NextNodeSelector returned an invalid node: {}'.format(selectedNode))\n",
        "                return\n",
        "\n",
        "            # If the selected node is a target, the path is just found from start to target\n",
        "            if selectedNode.location in self.targets:\n",
        "                print('Target {} reached in {} steps and {} cost.'.format(selectedNode.location.id, self.stepCount, selectedNode.cost))\n",
        "                # Track back the path from the found target to the start to build and display the found path\n",
        "                while selectedNode.parent != None:\n",
        "                    self.pathFound.append(selectedNode.parent)\n",
        "                    self.map.setLocationAnnotation(selectedNode.location,5)\n",
        "                    selectedNode = selectedNode.parent\n",
        "                # The search can terminate now\n",
        "                break\n",
        "\n",
        "            # Transferring the selected node from openlist to closedlist\n",
        "            self.openList.remove(selectedNode)\n",
        "            self.closedList.append(selectedNode)\n",
        "            self.map.setLocationAnnotation(selectedNode.location,4)\n",
        "\n",
        "            # Adding all neighbours to the openlist\n",
        "            for road in selectedNode.location.roads:\n",
        "                otherEnd = SearchNode(road.endLocation,selectedNode,selectedNode.cost+road.length)\n",
        "                if otherEnd in self.openList:\n",
        "                    # Skipping: already in openlist\n",
        "                    continue;\n",
        "                if otherEnd in self.closedList:\n",
        "                    # Skipping: already in closedlist\n",
        "                    continue;\n",
        "                self.openList.append(otherEnd)\n",
        "                self.map.setLocationAnnotation(road.endLocation,6)\n",
        "        # Display the map after the given number of steps or if the algorithm terminates\n",
        "        self.map.show()"
      ],
      "execution_count": null,
      "outputs": []
    },
    {
      "cell_type": "markdown",
      "metadata": {
        "id": "CxOPoUL8PdvR"
      },
      "source": [
        "Hozzuk létre a keretrendszer egy példányát, állítsuk be az I épületet kiinduló pontnak és a Schönherz kollégiumot célpontnak!"
      ]
    },
    {
      "cell_type": "code",
      "metadata": {
        "id": "NAknF9xwPc4S"
      },
      "source": [
        "search = SearchFrame(map)\n",
        "search.resetSearch()\n",
        "search.setStart(\"305572355\")\n",
        "search.addTarget(\"60488184\")"
      ],
      "execution_count": null,
      "outputs": []
    },
    {
      "cell_type": "markdown",
      "metadata": {
        "id": "943trErE495W"
      },
      "source": [
        "## A szélességi keresés implementálása\n",
        "\n",
        "A szélességi keresés működése során mindig azt a csomópontot választja az openList-ről, ami oda a legrégebben került fel. Mivel az openList egy egyszerű indexelt listaként került megvalósításra, így ezt a működés úgy tudjuk leprogramozni, ha a BFSNodeSelector osztályban\n",
        "mindig az openList első elemét adjuk vissza!\n",
        "\n",
        "E működést az alábbi egyszerű kódrészlet implementálja. Az alsó három sor a keresést állítja alaphelyzetbe, a frissen létrehozott BFSNodeSelector egy példányát állítja be keresési stratégiaként, majd maximum 1000 lépésig futtatja a keresést! Futtassa le az alábbi blokkot és értékelje a szélességi keresés működését!"
      ]
    },
    {
      "cell_type": "code",
      "metadata": {
        "id": "gkUtX700OQB6"
      },
      "source": [
        "class BFSNodeSelector:\n",
        "    def nextNode(self, search, openList, closedList):\n",
        "        return openList[0]\n",
        "\n",
        "\n",
        "search.resetSearch()\n",
        "search.nextNodeSelector = BFSNodeSelector()\n",
        "search.step(1000)"
      ],
      "execution_count": null,
      "outputs": []
    },
    {
      "cell_type": "markdown",
      "metadata": {
        "id": "LcW_ub9ROhWN"
      },
      "source": [
        "A fenti képen a színek jelentése a következő:\n",
        "* lila: a megtalált útvonal pontjai\n",
        "* sárga: a closedList elemei\n",
        "* cián: az openList elemei\n",
        "* kék: a térkép olyan további pontjai, melyek nem kerültek a keresés során bejárásra.\n",
        "\n",
        "Az algoritmus futása alapján a következőket állapíthatjuk meg:\n",
        "* a szélességi keresés nagyon sok csomópontot kifejt annak érdekében, hogy a teljességet és az optimalitást biztosítani tudja\n",
        "* a keresés (mint minden nem informált keresés) nem törekszik a célpont irányába, a térben minden irányba sok csomópontot fejt ki\n",
        "* a szélességi keresés esetén előbb probléma a szükséges tárkapacitás (a sok kifejtett csomópont tárolása miatt), mint a futási idő"
      ]
    },
    {
      "cell_type": "markdown",
      "metadata": {
        "id": "-jw61q_Ojf2G"
      },
      "source": [
        "## A mélységi keresés implementálása\n",
        "\n",
        "A szélességi keresés nagy előnye volt a teljesség és az optimalitás, de erős korlátozó tényező a szükséges tárkapacitás. A mélységi keresés mindent a tárkapacitás minimalizálására tesz fel, ezzel azonban fel kell áldoznunk az előbbi két tetszetős tulajdonságot.\n",
        "\n",
        "A mélységi keresés során mindig az openList-re legutoljára felkerült elemet fejtjük ki, tehát ha egy irányba elindult a keresés, akkor addig halad abba az irányba, ameddig csak lehet!\n",
        "\n",
        "Implementálja a mélységi keresést olyan módon, hogy a DFSNodeSelector mindig az openList utolsó elemével térjen vissza, majd futtassa az alábbi kódblokkot!"
      ]
    },
    {
      "cell_type": "code",
      "metadata": {
        "id": "BBlB1aiMOkMz"
      },
      "source": [
        "class DFSNodeSelector:\n",
        "    def nextNode(self, search, openList, closedList):\n",
        "        ### Your code starts here\n",
        "        ### ...\n",
        "        ### Your code ends here\n",
        "\n",
        "search.resetSearch()\n",
        "search.nextNodeSelector = DFSNodeSelector()\n",
        "search.step(4000)"
      ],
      "execution_count": null,
      "outputs": []
    },
    {
      "cell_type": "markdown",
      "metadata": {
        "id": "atXLJUDDSbXW"
      },
      "source": [
        "A mélységi keresés a fél világot bejárja, mielőtt egy szürreálisan hosszú útvonallal vissza nem tér. Könnyű belátni a fenti példa alapján, hogy a mélységi keresés alkalmazása csak akkor indokolt, amikor a szélességi jellegű keresések tárhely korlátba ütköznek!\n",
        "\n",
        "## Az egyenletes költségű keresés\n",
        "\n",
        "Az előbbiekben implementált két algoritmus nem vett tudomást arról, hogy az egyes csomópontok között eltérő távolságok lehetnek: minkét algoritmus csak a legrégebben vagy legutóbb az openList-re került csomópontot választotta, azonban a csomópontok kiindulási ponttól mért távolsága alapján adható ennél jobb megoldás is!\n",
        "\n",
        "Implementálja az egyenletes költségű keresést, ami mindig azt a csomópontot adja vissza az openList-ről, ami a kiindulási ponthoz a legközelebb fekszik! Az openList elemei között a kiindulási ponttól mért távolságot a cost tagváltozó tartalmazza, a feladat tehát az, hogy az openList-ről mindig a legalacsonyabb cost értékű csomópontot adja vissza!\n",
        "\n",
        "Ha elkészült az implementációval, futtassa a keresést!"
      ]
    },
    {
      "cell_type": "code",
      "metadata": {
        "id": "anmIOK31SfXp"
      },
      "source": [
        "class UniformNodeSelector:\n",
        "    def nextNode(self, search, openList, closedList):\n",
        "        ### Your code starts here\n",
        "        ### ...\n",
        "        ### Your code ends here\n",
        "\n",
        "search.resetSearch()\n",
        "search.nextNodeSelector = UniformNodeSelector()\n",
        "search.step(1000)"
      ],
      "execution_count": null,
      "outputs": []
    },
    {
      "cell_type": "markdown",
      "metadata": {
        "id": "OYVdYWNkSlfy"
      },
      "source": [
        "A jelenlegi példánkban elég sűrűn vannak a térkép pontjai lerakva ahhoz, hogy a szélességi és az egyenletes költségű keresés azonos megoldást adjanak, de míg a szélességi keresés lépésszámban, addig az egyenletes költségű keresés a kiinduló ponttól mért távolságban mérve optimális megoldás.\n",
        "\n",
        "## A mohó keresés\n",
        "\n",
        "Az eddigiekben implemenált keresésekre általánosan igaz, hogy a térképen minden irányba azonos hajlandósággal indulnak a célt keresni. Ha nincs semmi előzetes információnk a cél irányáról, akkor ennél többet nem lehet tenni, azonban ha van lehetőség informált keresést használni, akkor az mindig sokkal hatékonyabb tud lenni, mint a nem informált keresések!\n",
        "\n",
        "A térképen való keresés során egy jó heurisztika lehet az egyes pontok közötti légvonalban mért távolság. Ez a heurisztika könnyen számolható, ráadásul az elfogadhatóság feltételét is teljesíti. A légvonalbeli távolság számítását két pont között a SearchFrame.heur függvénye implemenálja.\n",
        "\n",
        "A mohó keresés működése hasonlít a mélységi keresésre, azzal az eltéréssel, hogy ez a keresés mindig azt a pontot válaszja az openList-ről amit a heurisztika a célhoz legközelebbinek mutat.\n",
        "\n",
        "Implementálja a mohó keresést a GreedyNodeSelector osztályba úgy, hogy az openList-en található csomópontok közül mindig azt adja vissza, amire a search.heur() függvény a legkisebb heurisztika értéket adja, majd futtassa a keresést az alábbi kódrészlettel!"
      ]
    },
    {
      "cell_type": "code",
      "metadata": {
        "id": "Cd_7BVn1Sncc"
      },
      "source": [
        "class GreedyNodeSelector:\n",
        "    def nextNode(self, search, openList, closedList):\n",
        "        ### Your code starts here\n",
        "        ### ...\n",
        "        ### Your code ends here\n",
        "\n",
        "search.resetSearch()\n",
        "search.nextNodeSelector = GreedyNodeSelector()\n",
        "search.step(1000)"
      ],
      "execution_count": null,
      "outputs": []
    },
    {
      "cell_type": "markdown",
      "metadata": {
        "id": "1HXCgFSeSvye"
      },
      "source": [
        "A fenti futás alapján jól látszik a mohó keresés nagy előnye és egyben nagy hátránya is:\n",
        "* a mohó keresés nagyon hatékonyan talált utat a célig, szinte alig fejtett ki felesleges csomópontokat a keresés során\n",
        "* cserébe viszont a megtalált út nem optimális, hanem annál 25%-al hosszabb\n",
        "\n",
        "\n",
        "## Az A* keresés\n",
        "\n",
        "Az A* keresés a mohó keresés célirányosságát és hatékonyságát ötvözi az egyenletes költségű keresés teljességével és optimalitásával. A gyakorlatban ez úgy történik, hogy nem csak a cél közelségét (a heurisztikát) vagy csak a megtett út hosszát (az eddigi útköltséget) veszi figyelembe, hanem ezek összegét. Így a keresés egyszerre törekszik hatékonyan a cél irányába, és kerüli el a túl költségessé váló kerülőutakat.\n",
        "\n",
        "Implementálja az A* keresést úgy, hogy az AStarNodeSelector az openList-ről mindig azt a csomópontot adja vissza, amelynek a heurisztika (search.heur() érték) és az útköltség (node.cost érték) összege a legkisebb!\n",
        "\n",
        "Futtassa az elkészült keresést az alábbi blokkal!"
      ]
    },
    {
      "cell_type": "code",
      "metadata": {
        "id": "iilx9SGYSyw0"
      },
      "source": [
        "class AStarNodeSelector:\n",
        "    def nextNode(self, search, openList, closedList):\n",
        "        ### Your code starts here\n",
        "        ### ...\n",
        "        ### Your code ends here\n",
        "\n",
        "search.resetSearch()\n",
        "search.nextNodeSelector = AStarNodeSelector()\n",
        "search.step(1000)"
      ],
      "execution_count": null,
      "outputs": []
    },
    {
      "cell_type": "markdown",
      "metadata": {
        "id": "rb9pLGBwsI9O"
      },
      "source": [
        "Hasonlítsa össze az eredményeket a mohó kereséssel (az útvonal hosszára tekintettel), illetve az egyenletes költségű kereséssel (a kifejtett csomópontok számára vonakozóan)!\n",
        "\n",
        "A fenti futtatás egy nagyon idealizált képet mutat, ugyanis egy nagyon pontos, mégis elfogadható heurisztika állt rendelkezésünkre az euklideszi távolság formájában. Általában a problémák többségében nem elérhető hasonlóan pontos heurisztika, amit a következő teszt során úgy szimulálunk, hogy a heurisztika értékéhez minden alkalommal 50% zajt keverünk.\n",
        "\n",
        "Futtassa a keresést az alábbi blokk használatával, és értékelje a heurisztika pontosságának \"romlása\" miatt tapasztalható változásokat!\n",
        "\n",
        "\n"
      ]
    },
    {
      "cell_type": "code",
      "metadata": {
        "id": "CP751SdBcyq_"
      },
      "source": [
        "search.resetSearch()\n",
        "search.nextNodeSelector = AStarNodeSelector()\n",
        "search.heurErrorRatio = 0.5\n",
        "search.step(1000)"
      ],
      "execution_count": null,
      "outputs": []
    },
    {
      "cell_type": "markdown",
      "metadata": {
        "id": "h49wmNnZcgBv"
      },
      "source": [
        "## További kísérletezési lehetőség\n",
        "\n",
        "Az alábbi kódblokk használatával testreszabottan futtathatja a fentiekben implementált algoritmusokat. Kísérletezzen a különböző kiindulási- és célpontokkal (akár több célpontot megadva)!  Módosítsa a heurErrorRatio értékét, hogy kisebb és nagyobb heurisztika hibák mellett is tesztelni tudja az algoritmusokat!\n",
        "\n",
        "Néhány nevezetes pont ID-ja a térképen:\n",
        "\n",
        "* 305572355 = BME I épület\n",
        "* 60488184 = Schönherz Kollégium\n",
        "* 5685085323 = Kelenföld vasútállomás\n",
        "* 2440711784 = Móricz Zsigmond körtér\n",
        "* 263005283 = Kosztolányi tér\n",
        "* 460402844 = Szent Gellért tér"
      ]
    },
    {
      "cell_type": "code",
      "metadata": {
        "id": "i-lUEQFmsl2H"
      },
      "source": [
        "#map = Map('11ker.osm')\n",
        "search = SearchFrame(map)\n",
        "search.resetSearch()\n",
        "search.clearTargets()\n",
        "search.setStart(\"305572355\")\n",
        "search.addTarget(\"5685085323\")\n",
        "\n",
        "#search.nextNodeSelector = BFSNodeSelector()\n",
        "#search.nextNodeSelector = DFSNodeSelector()\n",
        "#search.nextNodeSelector = UniformNodeSelector()\n",
        "#search.nextNodeSelector = GreedyNodeSelector()\n",
        "search.nextNodeSelector = AStarNodeSelector()\n",
        "\n",
        "search.heurErrorRatio=0\n",
        "\n",
        "search.step(5000)"
      ],
      "execution_count": null,
      "outputs": []
    },
    {
      "cell_type": "markdown",
      "metadata": {
        "id": "Ytnru4J5s1sY"
      },
      "source": [
        "# **Feladatbeadás**\n",
        "\n",
        "**A feladat teljesítéséhez módosítsa az `astarsearch.py` fájl alábbi szkeletonját úgy, hogy a `nextNode` függvény az A* keresésnek megfelelő módon válassza ki a következő kifejtendő csomópontot, majd töltse fel a fájlt a Moodle rendszerbe!**"
      ]
    },
    {
      "cell_type": "code",
      "source": [
        "class AStarNodeSelector:\n",
        "    def nextNode(self, search, openList, closedList):\n",
        "        ### Your code starts here\n",
        "        ### ...\n",
        "        ### Your code ends here"
      ],
      "metadata": {
        "id": "j8ddJi0uxS7I"
      },
      "execution_count": null,
      "outputs": []
    },
    {
      "cell_type": "markdown",
      "source": [
        "A laborhoz tartozó Moodle-feladat akkor számít teljesítettnek, hogyha a keresés a legoptimálisabb útvonalat adja vissza, ésszerűen alacsony számú lépést követően.\n",
        "\n",
        "> **Fontos:** A feladat beadásánál figyeljen oda arra, hogy a beadott fájl neve `astarsearch.py` legyen, és kizárólag a `nextNode` függvény törzsét (megjelölt rész) módosítsa!"
      ],
      "metadata": {
        "id": "EgkPpdYUxZVi"
      }
    }
  ]
}